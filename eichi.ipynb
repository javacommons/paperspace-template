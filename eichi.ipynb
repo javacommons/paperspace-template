{
  "cells": [
    {
      "cell_type": "code",
      "execution_count": null,
      "metadata": {
        "execution": {
          "iopub.execute_input": "2024-03-08T19:13:51.581416Z",
          "iopub.status.busy": "2024-03-08T19:13:51.580173Z"
        },
        "id": "qfGtMLwLpCr3"
      },
      "outputs": [],
      "source": [
        "#(2) FramePack-eichi(無印モード)起動\n",
        "!mkdir -p /notebooks/FramePack/lora\n",
        "%cd /notebooks/FramePack/lora\n",
        "!mkdir -p /FramePack/lora\n",
        "!cp *.safetensors /FramePack/lora/\n",
        "!/usr/local/bin/e0"
      ]
    },
    {
      "cell_type": "code",
      "execution_count": null,
      "metadata": {
        "execution": {
          "iopub.execute_input": "2024-03-08T16:58:22.091130Z",
          "iopub.status.busy": "2024-03-08T16:58:22.090523Z",
          "iopub.status.idle": "2024-03-08T16:58:30.052996Z",
          "shell.execute_reply": "2024-03-08T16:58:30.052031Z",
          "shell.execute_reply.started": "2024-03-08T16:58:22.091101Z"
        },
        "id": "JMVf8COkpK0e"
      },
      "outputs": [],
      "source": [
        "#(2) FramePack-eichi(F1モード)起動\n",
        "!mkdir -p /notebooks/FramePack/lora\n",
        "%cd /notebooks/FramePack/lora\n",
        "!mkdir -p /FramePack/lora\n",
        "!cp *.safetensors /FramePack/lora/\n",
        "!/usr/local/bin/e1"
      ]
    },
    {
      "cell_type": "code",
      "execution_count": null,
      "metadata": {
        "execution": {
          "iopub.execute_input": "2024-02-02T02:57:57.704153Z",
          "iopub.status.busy": "2024-02-02T02:57:57.703880Z",
          "iopub.status.idle": "2024-02-02T03:00:29.988681Z",
          "shell.execute_reply": "2024-02-02T03:00:29.987979Z",
          "shell.execute_reply.started": "2024-02-02T02:57:57.704129Z"
        },
        "id": "rIUmi3RhpQiW"
      },
      "outputs": [],
      "source": [
        "#(1) FramePack 用のLoRAのダウンロード（ここにダウンロードしたいモデルを追加）\n",
        "!mkdir -p /notebooks/FramePack/lora\n",
        "%cd /notebooks/FramePack/lora\n",
        "!wget -nc \"https://civitai.com/api/download/models/1031106?type=Model&format=SafeTensor\" -O paizuri.safetensors\n",
        "#!wget -nc \"【ここに欲しいローラのURL】\" -O 〇〇.safetensors"
      ]
    }
  ],
  "metadata": {
    "colab": {
      "private_outputs": true,
      "provenance": []
    },
    "gpuClass": "standard",
    "kernelspec": {
      "display_name": "Python 3 (ipykernel)",
      "language": "python",
      "name": "python3"
    },
    "language_info": {
      "codemirror_mode": {
        "name": "ipython",
        "version": 3
      },
      "file_extension": ".py",
      "mimetype": "text/x-python",
      "name": "python",
      "nbconvert_exporter": "python",
      "pygments_lexer": "ipython3",
      "version": "3.9.16"
    }
  },
  "nbformat": 4,
  "nbformat_minor": 0
}