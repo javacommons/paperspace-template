{
  "cells": [
    {
      "cell_type": "code",
      "execution_count": null,
      "id": "1d60c28d-35a6-47d3-830c-60f6aad7dfd7",
      "metadata": {
        "execution": {
          "iopub.execute_input": "2025-05-17T01:55:58.117042Z",
          "iopub.status.busy": "2025-05-17T01:55:58.116776Z"
        },
        "id": "1d60c28d-35a6-47d3-830c-60f6aad7dfd7"
      },
      "outputs": [],
      "source": [
        "#(3) 起動コマンド\n",
        "Args = \"--listen --port 6006 --preview-method auto --fast\"\n",
        "\n",
        "def sd():\n",
        "    import os\n",
        "    from subprocess import call\n",
        "    localurl = \"https://tensorboard-\" + os.environ.get('PAPERSPACE_FQDN', 'localhost')\n",
        "    call(\"sed -i 's@logging.info(\\\"To see the GUI go to: {}://{}:{}\\\".format(scheme, address, port))@print(\\\"\\033[32m\\\\u2714 Connected\\\")\\\\n            print(\\\"\" + localurl + \"\\\")@' /notebooks/ComfyUI/server.py\", shell=True)\n",
        "    os.chdir('/notebooks')\n",
        "    print(f\"ComfyUI public URL: {localurl}\")\n",
        "\n",
        "sd()\n",
        "%cd /notebooks\n",
        "!python /notebooks/ComfyUI/main.py $Args"
      ]
    },
    {
      "cell_type": "code",
      "execution_count": null,
      "id": "56ad2bc1-235a-4a43-9f5f-6690273b1e6d",
      "metadata": {
        "execution": {
          "iopub.execute_input": "2025-05-17T01:40:54.760928Z",
          "iopub.status.busy": "2025-05-17T01:40:54.760620Z",
          "iopub.status.idle": "2025-05-17T01:40:58.056912Z",
          "shell.execute_reply": "2025-05-17T01:40:58.056267Z",
          "shell.execute_reply.started": "2025-05-17T01:40:54.760906Z"
        },
        "id": "56ad2bc1-235a-4a43-9f5f-6690273b1e6d"
      },
      "outputs": [],
      "source": [
        "#(1) インストールコマンド\n",
        "%cd /notebooks\n",
        "!rm -rf ComfyUI\n",
        "!cp -r /ComfyUI ."
      ]
    },
    {
      "cell_type": "code",
      "source": [
        "#(2) モデルを追加"
      ],
      "metadata": {
        "id": "2re_BvQNVuqt"
      },
      "id": "2re_BvQNVuqt",
      "execution_count": null,
      "outputs": []
    },
    {
      "cell_type": "code",
      "execution_count": null,
      "id": "ba440141-f0cb-4974-a035-ed325f521bbb",
      "metadata": {
        "id": "ba440141-f0cb-4974-a035-ed325f521bbb"
      },
      "outputs": [],
      "source": [
        "#(4) アップデートコマンド\n",
        "%cd /notebooks/ComfyUI\n",
        "!git checkout master\n",
        "!git pull\n"
      ]
    }
  ],
  "metadata": {
    "colab": {
      "provenance": []
    },
    "kernelspec": {
      "display_name": "Python 3 (ipykernel)",
      "language": "python",
      "name": "python3"
    },
    "language_info": {
      "codemirror_mode": {
        "name": "ipython",
        "version": 3
      },
      "file_extension": ".py",
      "mimetype": "text/x-python",
      "name": "python",
      "nbconvert_exporter": "python",
      "pygments_lexer": "ipython3",
      "version": "3.10.12"
    }
  },
  "nbformat": 4,
  "nbformat_minor": 5
}