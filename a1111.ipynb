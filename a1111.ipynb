{
  "cells": [
    {
      "cell_type": "code",
      "execution_count": null,
      "metadata": {
        "execution": {
          "iopub.execute_input": "2024-03-08T19:13:51.581416Z",
          "iopub.status.busy": "2024-03-08T19:13:51.580173Z"
        },
        "id": "qfGtMLwLpCr3"
      },
      "outputs": [],
      "source": [
        "#(3) WebUI起動\n",
        "%cd /notebooks/stable-diffusion-webui\n",
        "!python3.10 launch.py --xformers --enable-insecure-extension-access --share --gradio-queue\n"
      ]
    },
    {
      "cell_type": "code",
      "execution_count": null,
      "metadata": {
        "execution": {
          "iopub.execute_input": "2024-03-08T16:58:22.091130Z",
          "iopub.status.busy": "2024-03-08T16:58:22.090523Z",
          "iopub.status.idle": "2024-03-08T16:58:30.052996Z",
          "shell.execute_reply": "2024-03-08T16:58:30.052031Z",
          "shell.execute_reply.started": "2024-03-08T16:58:22.091101Z"
        },
        "id": "JMVf8COkpK0e"
      },
      "outputs": [],
      "source": [
        "#(1) AUTOMATIC1111のダウンロード\n",
        "%cd /notebooks\n",
        "!rm -rf stable-diffusion-webui\n",
        "!cp -r /stable-diffusion-webui .\n"
      ]
    },
    {
      "cell_type": "code",
      "execution_count": null,
      "metadata": {
        "execution": {
          "iopub.execute_input": "2024-02-02T02:57:57.704153Z",
          "iopub.status.busy": "2024-02-02T02:57:57.703880Z",
          "iopub.status.idle": "2024-02-02T03:00:29.988681Z",
          "shell.execute_reply": "2024-02-02T03:00:29.987979Z",
          "shell.execute_reply.started": "2024-02-02T02:57:57.704129Z"
        },
        "id": "rIUmi3RhpQiW"
      },
      "outputs": [],
      "source": [
        "#(2) モデルのダウンロード（ここにダウンロードしたいモデルを追加）\n",
        "%cd /notebooks/stable-diffusion-webui/models/Stable-diffusion\n",
        "!wget -nc https://civitai.com/api/download/models/178711 -O yayoi_mix_v2.5.safetensors\n",
        "#!wget -nc https://civitai.com/api/download/models/16859 -O BlueberryMix-1.0.safetensors\n",
        "#!wget -nc https://civitai.com/api/download/models/11745 -O Chilloutmix-Ni-pruned-fp32-fix.safetensors\n",
        "#!wget -nc https://huggingface.co/sazyou-roukaku/chilled_remix/resolve/5876389637f3f82d2b33a609f85f9b36aa4748fe/chilled_remix_v1vae.safetensors -O chilled_remix_v1vae.safetensors\n",
        "#!wget -nc https://huggingface.co/sazyou-roukaku/chilled_remix/resolve/main/chilled_remix_v2.safetensors -O chilled_remix_v2.safetensors\n",
        "#!wget -nc \"https://civitai.com/api/download/models/102222\" -O XXMix_9realistic_v4.0.safetensors\n",
        "#!wget -nc \"https://civitai.com/api/download/models/31866\" -O Ambientmix_v1.0.safetensors\n",
        "#!wget -nc \"https://civitai.com/api/download/models/89927?type=Model&format=SafeTensor&size=full&fp=fp16\" -O AAM_v1.safetensors\n",
        "\n",
        "%cd /notebooks/stable-diffusion-webui/embeddings\n",
        "#!wget -nc https://civitai.com/api/download/models/60938 -O negative_hand-neg.pt\n",
        "#!wget -nc https://huggingface.co/datasets/Nerfgun3/bad_prompt/resolve/main/bad_prompt_version2.pt -O bad_prompt.pt\n",
        "\n",
        "%cd /notebooks/stable-diffusion-webui/models/VAE\n",
        "!wget -nc https://huggingface.co/stabilityai/sd-vae-ft-mse-original/resolve/main/vae-ft-mse-840000-ema-pruned.ckpt -O vae-ft-mse-840000-ema-pruned.ckpt\n",
        "\n",
        "!mkdir -p /notebooks/stable-diffusion-webui/models/Lora\n",
        "%cd /notebooks/stable-diffusion-webui/models/Lora\n",
        "!wget -nc https://civitai.com/api/download/models/54280 -O attire_hotlimit-10.safetensors\n",
        "!wget -nc https://civitai.com/api/download/models/32988 -O blindbox_v1_mix.safetensors\n",
        "!wget -nc \"https://civitai.com/api/download/models/34562?type=Model&format=SafeTensor&size=full&fp=fp16\" -O JapaneseDollLikeness_v15.safetensors\n",
        "!wget -nc \"https://civitai.com/api/download/models/31284?type=Model&format=SafeTensor&size=full&fp=fp16\" -O koreanDollLikeness.safetensors\n",
        "!wget -nc \"https://huggingface.co/cwr/yangmi/resolve/59076c7652ae31807c1d733154965937f3f4274f/yurisaLora_v40.safetensors\" -O yurisaLora_v40.safetensors\n",
        "\n",
        "%cd /notebooks/stable-diffusion-webui/extensions\n",
        "!git clone https://github.com/AlUlkesh/stable-diffusion-webui-images-browser\n",
        "!git clone https://github.com/Bing-su/adetailer\n",
        "!git clone https://github.com/adieyal/sd-dynamic-prompts\n"
      ]
    },
    {
      "cell_type": "code",
      "execution_count": null,
      "metadata": {
        "execution": {
          "iopub.execute_input": "2024-02-06T12:01:12.389426Z",
          "iopub.status.busy": "2024-02-06T12:01:12.388801Z",
          "iopub.status.idle": "2024-02-06T12:01:15.763647Z",
          "shell.execute_reply": "2024-02-06T12:01:15.762825Z",
          "shell.execute_reply.started": "2024-02-06T12:01:12.389399Z"
        },
        "id": "a3c-0LBjpYXe"
      },
      "outputs": [],
      "source": [
        "#(4) AUTOMATIC1111アップデート（アップデートが必要な時のみ実行）\n",
        "%cd /notebooks/stable-diffusion-webui\n",
        "!git checkout master\n",
        "!git pull\n"
      ]
    }
  ],
  "metadata": {
    "colab": {
      "private_outputs": true,
      "provenance": []
    },
    "gpuClass": "standard",
    "kernelspec": {
      "display_name": "Python 3 (ipykernel)",
      "language": "python",
      "name": "python3"
    },
    "language_info": {
      "codemirror_mode": {
        "name": "ipython",
        "version": 3
      },
      "file_extension": ".py",
      "mimetype": "text/x-python",
      "name": "python",
      "nbconvert_exporter": "python",
      "pygments_lexer": "ipython3",
      "version": "3.9.16"
    }
  },
  "nbformat": 4,
  "nbformat_minor": 0
}