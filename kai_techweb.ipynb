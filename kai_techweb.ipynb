{
  "cells": [
    {
      "cell_type": "markdown",
      "metadata": {
        "id": "y5PYpiOS7InM"
      },
      "source": [
        "このスクリプトについてのサポート、Stable Diffusion Web UI に関するサポート、および Paperspace に関するサポートについては https://bit.ly/paperspace-openchat に参加してみてください。LINE のオープンチャットです(LINEのメインアカウントの存在および本名がバレることはありません)。よろしくお願いします。"
      ]
    },
    {
      "cell_type": "code",
      "execution_count": null,
      "metadata": {
        "execution": {
          "iopub.execute_input": "2024-12-20T18:58:32.444454Z",
          "iopub.status.busy": "2024-12-20T18:58:32.443869Z"
        },
        "id": "qfGtMLwLpCr3"
      },
      "outputs": [],
      "source": [
        "#(3) WebUI起動\n",
        "!apt update\n",
        "!apt -y install python3.10\n",
        "!apt -y install libpython3.10-dev\n",
        "!apt -y install build-essential\n",
        "!apt -y install ffmpeg\n",
        "!curl -sS https://bootstrap.pypa.io/get-pip.py | python3.10\n",
        "!python3.10 -m pip install setuptools==69.5.1 -U\n",
        "!python3.10 -m pip install torch==2.1.2 torchvision==0.16.2 torchaudio==2.1.2 torchdata==0.7.1 torchtext==0.16.2+cpu xformers==0.0.23.post1 --index-url https://download.pytorch.org/whl/cu121 -U\n",
        "!python3.10 -m pip install httpx==0.24.1\n",
        "!python3.10 -m pip install matplotlib -U\n",
        "!python3.10 -m pip install ipython -U\n",
        "!python3.10 -m pip install basicsr -U\n",
        "#!python3.10 -m pip install lama-cleaner -U\n",
        "from IPython import get_ipython\n",
        "get_ipython().run_line_magic('matplotlib', 'inline')\n",
        "%cd /notebooks/stable-diffusion-webui\n",
        "!python3.10 launch.py --xformers --enable-insecure-extension-access --share --gradio-queue\n"
      ]
    },
    {
      "cell_type": "code",
      "execution_count": null,
      "metadata": {
        "execution": {
          "iopub.execute_input": "2024-12-20T18:43:03.549898Z",
          "iopub.status.busy": "2024-12-20T18:43:03.549598Z",
          "iopub.status.idle": "2024-12-20T18:43:21.229084Z",
          "shell.execute_reply": "2024-12-20T18:43:21.227989Z",
          "shell.execute_reply.started": "2024-12-20T18:43:03.549876Z"
        },
        "id": "JMVf8COkpK0e"
      },
      "outputs": [],
      "source": [
        "#(1) AUTOMATIC1111のダウンロード\n",
        "%cd /notebooks\n",
        "!rm -rf stable-diffusion-webui\n",
        "!git clone https://github.com/AUTOMATIC1111/stable-diffusion-webui\n",
        "%cd /notebooks/stable-diffusion-webui/extensions\n",
        "# \"日本語用言語パック\",\n",
        "!git clone \"https://github.com/Katsuyuki-Karasawa/stable-diffusion-webui-localization-ja_JP\"\n",
        "# \"バイリンガル対応拡張機能\",\n",
        "!git clone \"https://github.com/journey-ad/sd-webui-bilingual-localization\"\n",
        "# \"WebUIで簡単に翻訳ができる拡張機能です。\"\n",
        "!git clone \"https://github.com/ddPn08/sd-webui-prompt-translator\"\n",
        "# \"モデルA/Bの割合を可視化\"\n",
        "!git clone \"https://github.com/bbc-mc/merge-percentage-visualize\"\n",
        "# \"3回同じテキストが来た際に、コピーを防止\"\n",
        "!git clone \"https://github.com/aka7774/sd_copyguard\"\n",
        "# \"ボタン押してプロンプトの単語を入力\"\n",
        "!git clone \"https://github.com/blue-pen5805/sdweb-easy-prompt-selector\"\n",
        "# \"モデルを管理/編集/作成するための多目的ツール群\"\n",
        "!git clone \"https://github.com/arenatemp/stable-diffusion-webui-model-toolkit\"\n",
        "# \"プロンプトの単語を英語へ翻訳する\"\n",
        "!git clone \"https://github.com/butaixianran/Stable-Diffusion-Webui-Prompt-Translator\"\n",
        "# \"stable-diffusion-webui向けOpenpose Editor\"\n",
        "!git clone \"https://github.com/fkunn1326/openpose-editor\"\n",
        "# \"CivitAIにアップロードされているモデルをwebuiに転送\"\n",
        "!git clone \"https://github.com/civitai/sd_civitai_extension\"\n",
        "\n",
        "# \"blip2で画像のキャプションを生成\"\n",
        "#!git clone \"https://github.com/Tps-F/sd-webui-blip2\"\n",
        "# \"Lama Cleanerのタブを追加\"\n",
        "#!git clone \"https://github.com/aka7774/sd_lama_cleaner\"\n",
        "# \"生成した画像を生成情報を含めてPCで動いているEagleへ転送/登録\"\n",
        "#!git clone \"https://github.com/bbc-mc/sdweb-eagle-pnginfo\" # PC Only\n",
        "# \"過去に生成した画像を生成情報を含めてPCで動いているEagleへ転送/登録\"\n",
        "#!git clone \"https://github.com/bbc-mc/sdweb-eagle-transfer\" # PC Only\n",
        "# \"kohyaさんのsd-scriptsをそのままUIにしたものです\"\n",
        "#!git clone \"https://github.com/ddPn08/kohya-sd-scripts-webui\"\n",
        "# \"美的評価やスタイルで画像を分類できる拡張機能\"\n",
        "#!git clone \"https://github.com/p1atdev/stable-diffusion-webui-cafe-aesthetic\"\n",
        "# \"LAION Aesthetic v2の評価をwebuiで行う\"\n",
        "#!git clone \"https://github.com/p1atdev/stable-diffusion-webui-laion-aesthetic\"\n",
        "# \"Stable Diffusion runtime ensembling PoCの拡張機能\"\n",
        "#!git clone \"https://github.com/ashen-sensored/sd_webui_runtime_ensembling\" # URL not found\n"
      ]
    },
    {
      "cell_type": "code",
      "execution_count": null,
      "metadata": {
        "execution": {
          "iopub.execute_input": "2024-12-20T18:43:39.336306Z",
          "iopub.status.busy": "2024-12-20T18:43:39.335642Z",
          "iopub.status.idle": "2024-12-20T18:44:27.369678Z",
          "shell.execute_reply": "2024-12-20T18:44:27.368526Z",
          "shell.execute_reply.started": "2024-12-20T18:43:39.336276Z"
        },
        "id": "rIUmi3RhpQiW"
      },
      "outputs": [],
      "source": [
        "#(2) モデルのダウンロード（ここにダウンロードしたいモデルを追加）\n",
        "%cd /notebooks/stable-diffusion-webui/models/Stable-diffusion\n",
        "!wget -nc \"https://civitai.com/api/download/models/16859\" -O BlueberryMix-1.0.safetensors\n",
        "#!wget -nc \"https://civitai.com/api/download/models/11745\" -O Chilloutmix-Ni-pruned-fp32-fix.safetensors\n",
        "#!wget -nc \"https://huggingface.co/sazyou-roukaku/chilled_remix/resolve/5876389637f3f82d2b33a609f85f9b36aa4748fe/chilled_remix_v1vae.safetensors\" -O chilled_remix_v1vae.safetensors\n",
        "#!wget -nc \"https://huggingface.co/sazyou-roukaku/chilled_remix/resolve/main/chilled_remix_v2.safetensors\" -O chilled_remix_v2.safetensors\n",
        "\n",
        "%cd /notebooks/stable-diffusion-webui/embeddings\n",
        "!wget -nc \"https://civitai.com/api/download/models/60938\" -O negative_hand-neg.pt\n",
        "!wget -nc \"https://huggingface.co/datasets/Nerfgun3/bad_prompt/resolve/main/bad_prompt_version2.pt\" -O bad_prompt.pt\n",
        "\n",
        "%cd /notebooks/stable-diffusion-webui/models/VAE\n",
        "!wget -nc \"https://huggingface.co/stabilityai/sd-vae-ft-mse-original/resolve/main/vae-ft-mse-840000-ema-pruned.ckpt\" -O vae-ft-mse-840000-ema-pruned.ckpt\n",
        "\n",
        "!mkdir -p /notebooks/stable-diffusion-webui/models/Lora\n",
        "%cd /notebooks/stable-diffusion-webui/models/Lora\n",
        "!wget -nc \"https://civitai.com/api/download/models/54280\" -O attire_hotlimit-10.safetensors\n"
      ]
    },
    {
      "cell_type": "code",
      "execution_count": null,
      "metadata": {
        "execution": {
          "iopub.execute_input": "2024-02-06T12:01:12.389426Z",
          "iopub.status.busy": "2024-02-06T12:01:12.388801Z",
          "iopub.status.idle": "2024-02-06T12:01:15.763647Z",
          "shell.execute_reply": "2024-02-06T12:01:15.762825Z",
          "shell.execute_reply.started": "2024-02-06T12:01:12.389399Z"
        },
        "id": "a3c-0LBjpYXe"
      },
      "outputs": [],
      "source": [
        "#(4) AUTOMATIC1111アップデート（アップデートが必要な時のみ実行）\n",
        "%cd /notebooks/stable-diffusion-webui\n",
        "!git checkout master\n",
        "!git pull\n"
      ]
    }
  ],
  "metadata": {
    "colab": {
      "private_outputs": true,
      "provenance": []
    },
    "gpuClass": "standard",
    "kernelspec": {
      "display_name": "Python 3 (ipykernel)",
      "language": "python",
      "name": "python3"
    },
    "language_info": {
      "codemirror_mode": {
        "name": "ipython",
        "version": 3
      },
      "file_extension": ".py",
      "mimetype": "text/x-python",
      "name": "python",
      "nbconvert_exporter": "python",
      "pygments_lexer": "ipython3",
      "version": "3.9.16"
    }
  },
  "nbformat": 4,
  "nbformat_minor": 0
}